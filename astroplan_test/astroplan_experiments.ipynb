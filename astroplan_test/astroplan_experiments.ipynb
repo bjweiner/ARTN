{
 "cells": [
  {
   "cell_type": "code",
   "execution_count": 1,
   "metadata": {},
   "outputs": [],
   "source": [
    "import astropy\n",
    "import astroplan\n",
    "from astroplan import Observer, FixedTarget\n",
    "from astroplan.constraints import AtNightConstraint, AirmassConstraint, MoonSeparationConstraint, TimeConstraint\n",
    "from astroplan import ObservingBlock\n",
    "from astroplan import Transitioner\n",
    "from astroplan.scheduling import Schedule\n",
    "from astroplan.scheduling import SequentialScheduler\n",
    "from astropy.coordinates import SkyCoord\n",
    "from astroplan.scheduling import PriorityScheduler\n",
    "from astroplan.plots import plot_schedule_airmass\n",
    "from astropy.time import Time\n",
    "import matplotlib.pyplot as plt\n",
    "import astropy.units as u\n",
    "\n",
    "#I am following along with this tutorial just to figure out what is going on:\n",
    "#https://astroplan.readthedocs.io/en/latest/tutorials/scheduling.html"
   ]
  },
  {
   "cell_type": "code",
   "execution_count": 2,
   "metadata": {},
   "outputs": [
    {
     "data": {
      "text/plain": [
       "[u'',\n",
       " u'',\n",
       " u'',\n",
       " u'ALMA',\n",
       " u'Anglo-Australian Observatory',\n",
       " u'Apache Point',\n",
       " u'Apache Point Observatory',\n",
       " u'Atacama Large Millimeter Array',\n",
       " u'BAO',\n",
       " u'Beijing XingLong Observatory',\n",
       " u'Black Moshannon Observatory',\n",
       " u'CHARA',\n",
       " u'Canada-France-Hawaii Telescope',\n",
       " u'Catalina Observatory',\n",
       " u'Cerro Pachon',\n",
       " u'Cerro Paranal',\n",
       " u'Cerro Tololo',\n",
       " u'Cerro Tololo Interamerican Observatory',\n",
       " u'DCT',\n",
       " u'Discovery Channel Telescope',\n",
       " u'Dominion Astrophysical Observatory',\n",
       " u'GBT',\n",
       " u'Gemini South',\n",
       " u'Green Bank Telescope',\n",
       " u'Hale Telescope',\n",
       " u'Haleakala Observatories',\n",
       " u'Happy Jack',\n",
       " u'IAO',\n",
       " u'JCMT',\n",
       " u'James Clerk Maxwell Telescope',\n",
       " u'Jansky Very Large Array',\n",
       " u'Keck Observatory',\n",
       " u'Kitt Peak',\n",
       " u'Kitt Peak National Observatory',\n",
       " u'La Silla Observatory',\n",
       " u'Large Binocular Telescope',\n",
       " u'Las Campanas Observatory',\n",
       " u'Lick Observatory',\n",
       " u'Lowell Observatory',\n",
       " u'MWA',\n",
       " u'Manastash Ridge Observatory',\n",
       " u'McDonald Observatory',\n",
       " u'Medicina',\n",
       " u'Medicina Dish',\n",
       " u'Michigan-Dartmouth-MIT Observatory',\n",
       " u'Mount Graham International Observatory',\n",
       " u'Mt Graham',\n",
       " u'Mt. Ekar 182 cm. Telescope',\n",
       " u'Mt. Stromlo Observatory',\n",
       " u'Multiple Mirror Telescope',\n",
       " u'Murchison Widefield Array',\n",
       " u'NOV',\n",
       " u'National Observatory of Venezuela',\n",
       " u'Noto',\n",
       " u'Observatorio Astronomico Nacional, San Pedro Martir',\n",
       " u'Observatorio Astronomico Nacional, Tonantzintla',\n",
       " u'Palomar',\n",
       " u'Paranal Observatory',\n",
       " u'Roque de los Muchachos',\n",
       " u'SAAO',\n",
       " u'SALT',\n",
       " u'SRT',\n",
       " u'Siding Spring Observatory',\n",
       " u'Southern African Large Telescope',\n",
       " u'Subaru',\n",
       " u'Subaru Telescope',\n",
       " u'Sutherland',\n",
       " u'TUG',\n",
       " u'UKIRT',\n",
       " u'United Kingdom Infrared Telescope',\n",
       " u'Vainu Bappu Observatory',\n",
       " u'Very Large Array',\n",
       " u'W. M. Keck Observatory',\n",
       " u'Whipple',\n",
       " u'Whipple Observatory',\n",
       " u'aao',\n",
       " u'alma',\n",
       " u'apo',\n",
       " u'bmo',\n",
       " u'cfht',\n",
       " u'ctio',\n",
       " u'dao',\n",
       " u'dct',\n",
       " u'ekar',\n",
       " u'example_site',\n",
       " u'flwo',\n",
       " u'gbt',\n",
       " u'gemini_north',\n",
       " u'gemini_south',\n",
       " u'gemn',\n",
       " u'gems',\n",
       " u'greenwich',\n",
       " u'haleakala',\n",
       " u'iao',\n",
       " u'irtf',\n",
       " u'jcmt',\n",
       " u'keck',\n",
       " u'kpno',\n",
       " u'lapalma',\n",
       " u'lasilla',\n",
       " u'lbt',\n",
       " u'lco',\n",
       " u'lick',\n",
       " u'lowell',\n",
       " u'mcdonald',\n",
       " u'mdm',\n",
       " u'medicina',\n",
       " u'mmt',\n",
       " u'mro',\n",
       " u'mso',\n",
       " u'mtbigelow',\n",
       " u'mwa',\n",
       " u'mwo',\n",
       " u'noto',\n",
       " u'ohp',\n",
       " u'paranal',\n",
       " u'salt',\n",
       " u'sirene',\n",
       " u'spm',\n",
       " u'srt',\n",
       " u'sso',\n",
       " u'tona',\n",
       " u'tug',\n",
       " u'ukirt',\n",
       " u'vbo',\n",
       " u'vla']"
      ]
     },
     "execution_count": 2,
     "metadata": {},
     "output_type": "execute_result"
    }
   ],
   "source": [
    "#I looked at the site available on astroplan\n",
    "astropy.coordinates.EarthLocation.get_site_names()\n",
    "#from this list, it looks like we need to add Bigelow and Lemmon. \n",
    "#One can submit a pull request to the astropy-data repository \n",
    "#Look under get_site_names here:\n",
    "#http://docs.astropy.org/en/stable/api/astropy.coordinates.EarthLocation.html#astropy.coordinates.EarthLocation.get_site_names"
   ]
  },
  {
   "cell_type": "code",
   "execution_count": 5,
   "metadata": {},
   "outputs": [
    {
     "name": "stdout",
     "output_type": "stream",
     "text": [
      "<FixedTarget \"M31\" at SkyCoord (ICRS): (ra, dec) in deg (10.6847083, 41.26875)>\n",
      "<FixedTarget \"SN2019np\" at SkyCoord (ICRS): (ra, dec) in deg (157.3415, 29.510667)>\n"
     ]
    }
   ],
   "source": [
    "kpno = Observer.at_site('kpno')\n",
    "\n",
    "M31 = FixedTarget.from_name('M31')\n",
    "print M31\n",
    "\n",
    "SN2019np = FixedTarget(coord=SkyCoord(ra=157.341500*u.deg, dec=29.510667*u.deg),name='SN2019np')\n",
    "print SN2019np\n",
    "\n",
    "noon_before = Time('2019-02-19 19:00')\n",
    "noon_after = Time('2019-02-20 19:00')"
   ]
  },
  {
   "cell_type": "code",
   "execution_count": 12,
   "metadata": {},
   "outputs": [],
   "source": [
    "# create the list of constraints that all targets must satisfy\n",
    "#global_constraints = [AirmassConstraint(max = 2.5, boolean_constraint = False),\n",
    "#                       AtNightConstraint.twilight_civil(), MoonSeparationConstraint(min=30.*u.deg)]\n",
    "                          # create the list of constraints that all targets must satisfy\n",
    "global_constraints = [AirmassConstraint(max = 2.5, boolean_constraint = False),\n",
    "                           AtNightConstraint.twilight_civil()]\n",
    "                          "
   ]
  },
  {
   "cell_type": "code",
   "execution_count": 13,
   "metadata": {},
   "outputs": [],
   "source": [
    "read_out = 35 * u.second\n",
    "M31_exp = 15.*u.second\n",
    "SN2019np_exp = 300.*u.second\n",
    "\n",
    "M31_n = 5\n",
    "SN2019np_n = 8\n",
    "\n",
    "blocks = []\n",
    "\n",
    "night_start = Time('2019-02-20 02:37')\n",
    "night_end = Time('2019-02-20 12:43')\n",
    "\n",
    "tonight = TimeConstraint(night_start, night_end)\n",
    "\n",
    "# Create ObservingBlocks for each filter and target with our time\n",
    "# constraint, and durations determined by the exposures needed\n",
    "\n",
    "\n",
    "for priority, bandpass in enumerate(['U', 'B', 'V', 'R', 'I']):\n",
    "    # We want each filter to have separate priority (so that target\n",
    "    # and reference are both scheduled)\n",
    "    #DS note:  We will want to change this at some point.\n",
    "    \n",
    "    b = ObservingBlock.from_exposures(M31, priority, M31_exp, M31_n, read_out,\n",
    "                                            configuration = {'filter': bandpass},\n",
    "                                            constraints = [tonight])\n",
    "    blocks.append(b)\n",
    "    b = ObservingBlock.from_exposures(SN2019np, priority, SN2019np_exp, SN2019np_n, read_out,\n",
    "                                             configuration = {'filter': bandpass},\n",
    "                                             constraints = [tonight])\n",
    "    blocks.append(b)\n",
    "    \n"
   ]
  },
  {
   "cell_type": "code",
   "execution_count": 14,
   "metadata": {},
   "outputs": [
    {
     "name": "stdout",
     "output_type": "stream",
     "text": [
      "hello\n"
     ]
    }
   ],
   "source": [
    "# Initialize a transitioner object with the slew rate and/or the\n",
    "# duration of other transitions (e.g. filter changes)\n",
    "slew_rate = .8*u.deg/u.second\n",
    "transitioner = Transitioner(slew_rate,\n",
    "                                {'filter':{('B','V'): 10*u.second,\n",
    "                                           ('V','R'): 10*u.second,\n",
    "                                            'default': 30*u.second}})\n",
    "print 'hello'"
   ]
  },
  {
   "cell_type": "code",
   "execution_count": 15,
   "metadata": {},
   "outputs": [
    {
     "name": "stdout",
     "output_type": "stream",
     "text": [
      "yoyo\n"
     ]
    }
   ],
   "source": [
    "seq_scheduler = SequentialScheduler(constraints = global_constraints,\n",
    "                                         observer = kpno,\n",
    "                                         transitioner = transitioner)\n",
    "\n",
    "#sequential_schedule = Schedule(noon_before, noon_after)\n",
    "#seq_scheduler(blocks, sequential_schedule)\n",
    "print 'yoyo'"
   ]
  },
  {
   "cell_type": "code",
   "execution_count": 16,
   "metadata": {},
   "outputs": [
    {
     "data": {
      "text/html": [
       "&lt;Table length=19&gt;\n",
       "<table id=\"table4712823504\" class=\"table-striped table-bordered table-condensed\">\n",
       "<thead><tr><th>target</th><th>start time (UTC)</th><th>end time (UTC)</th><th>duration (minutes)</th><th>ra</th><th>dec</th><th>configuration</th></tr></thead>\n",
       "<thead><tr><th>unicode15</th><th>str23</th><th>str23</th><th>float64</th><th>unicode32</th><th>unicode32</th><th>object</th></tr></thead>\n",
       "<tr><td>M31</td><td>2019-02-20 02:37:00.017</td><td>2019-02-20 02:41:20.017</td><td>4.3333333333334245</td><td>10.6847083</td><td>41.26875</td><td>{&apos;filter&apos;: &apos;U&apos;}</td></tr>\n",
       "<tr><td>TransitionBlock</td><td>2019-02-20 02:41:20.017</td><td>2019-02-20 02:42:00.017</td><td>0.6666666666665577</td><td></td><td></td><td>[u&apos;filter:U to B&apos;]</td></tr>\n",
       "<tr><td>M31</td><td>2019-02-20 02:42:00.017</td><td>2019-02-20 02:46:20.017</td><td>4.333333333333265</td><td>10.6847083</td><td>41.26875</td><td>{&apos;filter&apos;: &apos;B&apos;}</td></tr>\n",
       "<tr><td>TransitionBlock</td><td>2019-02-20 02:46:20.017</td><td>2019-02-20 02:46:40.017</td><td>0.33333333333327886</td><td></td><td></td><td>[u&apos;filter:B to V&apos;]</td></tr>\n",
       "<tr><td>M31</td><td>2019-02-20 02:46:40.017</td><td>2019-02-20 02:51:00.017</td><td>4.333333333333265</td><td>10.6847083</td><td>41.26875</td><td>{&apos;filter&apos;: &apos;V&apos;}</td></tr>\n",
       "<tr><td>TransitionBlock</td><td>2019-02-20 02:51:00.017</td><td>2019-02-20 02:51:20.017</td><td>0.33333333333327886</td><td></td><td></td><td>[u&apos;filter:V to R&apos;]</td></tr>\n",
       "<tr><td>M31</td><td>2019-02-20 02:51:20.017</td><td>2019-02-20 02:55:40.017</td><td>4.333333333333265</td><td>10.6847083</td><td>41.26875</td><td>{&apos;filter&apos;: &apos;R&apos;}</td></tr>\n",
       "<tr><td>TransitionBlock</td><td>2019-02-20 02:55:40.017</td><td>2019-02-20 02:56:20.017</td><td>0.6666666666665577</td><td></td><td></td><td>[u&apos;filter:R to I&apos;]</td></tr>\n",
       "<tr><td>M31</td><td>2019-02-20 02:56:20.017</td><td>2019-02-20 03:00:40.017</td><td>4.333333333333265</td><td>10.6847083</td><td>41.26875</td><td>{&apos;filter&apos;: &apos;I&apos;}</td></tr>\n",
       "<tr><td>TransitionBlock</td><td>2019-02-20 03:00:40.017</td><td>2019-02-20 03:03:00.017</td><td>2.3333333333332718</td><td></td><td></td><td>[]</td></tr>\n",
       "<tr><td>SN2019np</td><td>2019-02-20 06:03:20.024</td><td>2019-02-20 06:48:00.024</td><td>44.66666666666672</td><td>157.3415</td><td>29.510667</td><td>{&apos;filter&apos;: &apos;I&apos;}</td></tr>\n",
       "<tr><td>TransitionBlock</td><td>2019-02-20 06:48:00.024</td><td>2019-02-20 06:48:40.024</td><td>0.6666666666665577</td><td></td><td></td><td>[u&apos;filter:I to V&apos;]</td></tr>\n",
       "<tr><td>SN2019np</td><td>2019-02-20 06:49:00.026</td><td>2019-02-20 07:33:40.026</td><td>44.66666666666672</td><td>157.3415</td><td>29.510667</td><td>{&apos;filter&apos;: &apos;V&apos;}</td></tr>\n",
       "<tr><td>TransitionBlock</td><td>2019-02-20 07:33:40.026</td><td>2019-02-20 07:34:20.026</td><td>0.6666666666665577</td><td></td><td></td><td>[u&apos;filter:V to U&apos;]</td></tr>\n",
       "<tr><td>SN2019np</td><td>2019-02-20 07:34:40.028</td><td>2019-02-20 08:19:20.028</td><td>44.66666666666672</td><td>157.3415</td><td>29.510667</td><td>{&apos;filter&apos;: &apos;U&apos;}</td></tr>\n",
       "<tr><td>TransitionBlock</td><td>2019-02-20 08:19:20.028</td><td>2019-02-20 08:20:00.028</td><td>0.6666666666665577</td><td></td><td></td><td>[u&apos;filter:U to B&apos;]</td></tr>\n",
       "<tr><td>SN2019np</td><td>2019-02-20 08:20:00.028</td><td>2019-02-20 09:04:40.028</td><td>44.66666666666672</td><td>157.3415</td><td>29.510667</td><td>{&apos;filter&apos;: &apos;B&apos;}</td></tr>\n",
       "<tr><td>TransitionBlock</td><td>2019-02-20 09:04:40.028</td><td>2019-02-20 09:05:20.028</td><td>0.6666666666667176</td><td></td><td></td><td>[u&apos;filter:B to R&apos;]</td></tr>\n",
       "<tr><td>SN2019np</td><td>2019-02-20 09:05:20.028</td><td>2019-02-20 09:50:00.028</td><td>44.66666666666672</td><td>157.3415</td><td>29.510667</td><td>{&apos;filter&apos;: &apos;R&apos;}</td></tr>\n",
       "</table>"
      ],
      "text/plain": [
       "<Table length=19>\n",
       "     target         start time (UTC)    ...    dec      configuration   \n",
       "   unicode15             str23          ... unicode32       object      \n",
       "--------------- ----------------------- ... --------- ------------------\n",
       "            M31 2019-02-20 02:37:00.017 ...  41.26875    {'filter': 'U'}\n",
       "TransitionBlock 2019-02-20 02:41:20.017 ...           [u'filter:U to B']\n",
       "            M31 2019-02-20 02:42:00.017 ...  41.26875    {'filter': 'B'}\n",
       "TransitionBlock 2019-02-20 02:46:20.017 ...           [u'filter:B to V']\n",
       "            M31 2019-02-20 02:46:40.017 ...  41.26875    {'filter': 'V'}\n",
       "TransitionBlock 2019-02-20 02:51:00.017 ...           [u'filter:V to R']\n",
       "            M31 2019-02-20 02:51:20.017 ...  41.26875    {'filter': 'R'}\n",
       "TransitionBlock 2019-02-20 02:55:40.017 ...           [u'filter:R to I']\n",
       "            M31 2019-02-20 02:56:20.017 ...  41.26875    {'filter': 'I'}\n",
       "TransitionBlock 2019-02-20 03:00:40.017 ...                           []\n",
       "       SN2019np 2019-02-20 06:03:20.024 ... 29.510667    {'filter': 'I'}\n",
       "TransitionBlock 2019-02-20 06:48:00.024 ...           [u'filter:I to V']\n",
       "       SN2019np 2019-02-20 06:49:00.026 ... 29.510667    {'filter': 'V'}\n",
       "TransitionBlock 2019-02-20 07:33:40.026 ...           [u'filter:V to U']\n",
       "       SN2019np 2019-02-20 07:34:40.028 ... 29.510667    {'filter': 'U'}\n",
       "TransitionBlock 2019-02-20 08:19:20.028 ...           [u'filter:U to B']\n",
       "       SN2019np 2019-02-20 08:20:00.028 ... 29.510667    {'filter': 'B'}\n",
       "TransitionBlock 2019-02-20 09:04:40.028 ...           [u'filter:B to R']\n",
       "       SN2019np 2019-02-20 09:05:20.028 ... 29.510667    {'filter': 'R'}"
      ]
     },
     "execution_count": 16,
     "metadata": {},
     "output_type": "execute_result"
    }
   ],
   "source": [
    "# Initialize the priority scheduler with the constraints and transitioner\n",
    "prior_scheduler = PriorityScheduler(constraints = global_constraints,\n",
    "                                         observer = kpno,\n",
    "                                         transitioner = transitioner)\n",
    "# Initialize a Schedule object, to contain the new schedule\n",
    "priority_schedule = Schedule(noon_before, noon_after)\n",
    "\n",
    "# Call the schedule with the observing blocks and schedule to schedule the blocks\n",
    "prior_scheduler(blocks, priority_schedule)\n",
    "\n",
    "priority_schedule.to_table()"
   ]
  },
  {
   "cell_type": "code",
   "execution_count": 17,
   "metadata": {},
   "outputs": [
    {
     "data": {
      "image/png": "[encoded data removed]",
      "text/plain": [
       "<Figure size 1008x432 with 1 Axes>"
      ]
     },
     "metadata": {
      "needs_background": "light"
     },
     "output_type": "display_data"
    }
   ],
   "source": [
    "# plot the schedule with the airmass of the targets\n",
    "plt.figure(figsize = (14,6))\n",
    "plot_schedule_airmass(priority_schedule)\n",
    "plt.legend(loc = \"upper right\")\n",
    "plt.show()"
   ]
  },
  {
   "cell_type": "code",
   "execution_count": null,
   "metadata": {},
   "outputs": [],
   "source": []
  },
  {
   "cell_type": "code",
   "execution_count": null,
   "metadata": {},
   "outputs": [],
   "source": []
  }
 ],
 "metadata": {
  "kernelspec": {
   "display_name": "Python 2",
   "language": "python",
   "name": "python2"
  },
  "language_info": {
   "codemirror_mode": {
    "name": "ipython",
    "version": 2
   },
   "file_extension": ".py",
   "mimetype": "text/x-python",
   "name": "python",
   "nbconvert_exporter": "python",
   "pygments_lexer": "ipython2",
   "version": "2.7.15"
  }
 },
 "nbformat": 4,
 "nbformat_minor": 2
}
